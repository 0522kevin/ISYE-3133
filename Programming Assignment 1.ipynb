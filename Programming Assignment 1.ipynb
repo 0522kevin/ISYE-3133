{
 "cells": [
  {
   "cell_type": "code",
   "execution_count": 1,
   "id": "2baa6a6c",
   "metadata": {},
   "outputs": [],
   "source": [
    "from gurobipy import GRB, Model"
   ]
  },
  {
   "cell_type": "code",
   "execution_count": 2,
   "id": "cf3b19fb",
   "metadata": {},
   "outputs": [
    {
     "name": "stdout",
     "output_type": "stream",
     "text": [
      "Restricted license - for non-production use only - expires 2024-10-28\n"
     ]
    }
   ],
   "source": [
    "m = Model('Assignment 1')\n",
    "m.setParam('OutputFlag', True)"
   ]
  },
  {
   "cell_type": "code",
   "execution_count": 3,
   "id": "67dd67af",
   "metadata": {},
   "outputs": [],
   "source": [
    "x1 = m.addVar(name = 'A from raw materials')\n",
    "x2 = m.addVar(name = 'B from raw materials')\n",
    "x3 = m.addVar(name = 'A used to make B and C')\n",
    "x4 = m.addVar(name = 'B used to make C')\n",
    "x5 = m.addVar(name = 'A sold')\n",
    "x6 = m.addVar(name = 'B sold')\n",
    "x7 = m.addVar(name = 'C sold')"
   ]
  },
  {
   "cell_type": "code",
   "execution_count": 4,
   "id": "7aab1035",
   "metadata": {},
   "outputs": [
    {
     "data": {
      "text/plain": [
       "<gurobi.Constr *Awaiting Model Update*>"
      ]
     },
     "execution_count": 4,
     "metadata": {},
     "output_type": "execute_result"
    }
   ],
   "source": [
    "m.addConstr(x5 <= 400)\n",
    "m.addConstr(x6 <= 400)\n",
    "m.addConstr(x7 <= 400)\n",
    "m.addConstr(x5 == x1 - x3)\n",
    "m.addConstr(x6 == x2 + 0.6*x3 - x4)\n",
    "m.addConstr(x7 == 0.4*x3 + 0.75*x4)"
   ]
  },
  {
   "cell_type": "code",
   "execution_count": 5,
   "id": "5ddda94b",
   "metadata": {},
   "outputs": [
    {
     "name": "stdout",
     "output_type": "stream",
     "text": [
      "Gurobi Optimizer version 10.0.0 build v10.0.0rc2 (mac64[x86])\n",
      "\n",
      "CPU model: Intel(R) Core(TM) i7-9750H CPU @ 2.60GHz\n",
      "Thread count: 6 physical cores, 12 logical processors, using up to 12 threads\n",
      "\n",
      "Optimize a model with 6 rows, 7 columns and 13 nonzeros\n",
      "Model fingerprint: 0xa264a1a8\n",
      "Coefficient statistics:\n",
      "  Matrix range     [4e-01, 1e+00]\n",
      "  Objective range  [2e+01, 2e+02]\n",
      "  Bounds range     [0e+00, 0e+00]\n",
      "  RHS range        [4e+02, 4e+02]\n",
      "Presolve removed 6 rows and 7 columns\n",
      "Presolve time: 0.01s\n",
      "Presolve: All rows and columns removed\n",
      "Iteration    Objective       Primal Inf.    Dual Inf.      Time\n",
      "       0    9.3600000e+04   0.000000e+00   0.000000e+00      0s\n",
      "\n",
      "Solved in 0 iterations and 0.01 seconds (0.00 work units)\n",
      "Optimal objective  9.360000000e+04\n",
      "Optimization status is OPTIMAL\n",
      "Optimal solution: \n",
      "A from raw materials = 400\n",
      "B from raw materials = 933.333\n",
      "A used to make B and C = 0\n",
      "B used to make C = 533.333\n",
      "A sold = 400\n",
      "B sold = 400\n",
      "C sold = 400\n",
      "Optimal objective value: \n",
      "93600.00000000001\n"
     ]
    }
   ],
   "source": [
    "m.setObjective(100*x5 + 120*x6 + 210*x7 - 50*(x1 + x2) - 30*x3 - 22*x4, GRB.MAXIMIZE)\n",
    "m.optimize()\n",
    "status_code = {1:'LOADED', 2:'OPTIMAL', 3:'INFEASIBLE', 4:'INF_OR_UNBD', 5:'UNBOUNDED'}\n",
    "status = m.status\n",
    "print('Optimization status is {}'.format(status_code[status]))\n",
    "if status == 2:\n",
    "    print('Optimal solution: ')\n",
    "    for var in m.getVars():\n",
    "        print('%s = %g' % (var.varName, var.x))\n",
    "    print('Optimal objective value: \\n{}'.format(m.objVal))"
   ]
  }
 ],
 "metadata": {
  "kernelspec": {
   "display_name": "Python 3 (ipykernel)",
   "language": "python",
   "name": "python3"
  },
  "language_info": {
   "codemirror_mode": {
    "name": "ipython",
    "version": 3
   },
   "file_extension": ".py",
   "mimetype": "text/x-python",
   "name": "python",
   "nbconvert_exporter": "python",
   "pygments_lexer": "ipython3",
   "version": "3.9.13"
  }
 },
 "nbformat": 4,
 "nbformat_minor": 5
}
