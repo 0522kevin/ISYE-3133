{
 "cells": [
  {
   "cell_type": "code",
   "execution_count": 1,
   "id": "fcb02a86",
   "metadata": {},
   "outputs": [],
   "source": [
    "import gurobipy as gp\n",
    "from gurobipy import GRB, Model"
   ]
  },
  {
   "cell_type": "code",
   "execution_count": 2,
   "id": "99990313",
   "metadata": {},
   "outputs": [],
   "source": [
    "r = [1.06, 1.08, 1.11, 1.05, 1.04]\n",
    "l = [10000, 5000, 50000, 20000, 1000]\n",
    "c = [5000, 2000, 1000, 1500, 500]\n",
    "a = [1.001, 1.02, 1.05, 1.005, 1.001]"
   ]
  },
  {
   "cell_type": "code",
   "execution_count": 3,
   "id": "6d832d03",
   "metadata": {},
   "outputs": [
    {
     "name": "stdout",
     "output_type": "stream",
     "text": [
      "Set parameter Username\n",
      "Academic license - for non-commercial use only - expires 2024-03-06\n"
     ]
    }
   ],
   "source": [
    "m = Model('Assignment 4')\n",
    "m.setParam('OutputFlag', True)"
   ]
  },
  {
   "cell_type": "code",
   "execution_count": 4,
   "id": "f273bc87",
   "metadata": {},
   "outputs": [],
   "source": [
    "w = 200000\n",
    "\n",
    "x = m.addVars(5, lb = 0, ub = 0.5*w, vtype = GRB.CONTINUOUS, name = 'x')\n",
    "y = m.addVars(5, vtype = GRB.BINARY, name = 'y')"
   ]
  },
  {
   "cell_type": "code",
   "execution_count": 5,
   "id": "c290b09d",
   "metadata": {},
   "outputs": [
    {
     "data": {
      "text/plain": [
       "<gurobi.Constr *Awaiting Model Update*>"
      ]
     },
     "execution_count": 5,
     "metadata": {},
     "output_type": "execute_result"
    }
   ],
   "source": [
    "for each in range(5):\n",
    "    m.addConstr(l[each]*y[each] <= x[each])\n",
    "m.addConstr(gp.quicksum(x[i]*a[i] + c[i]*y[i] for i in range(5)) <= w)"
   ]
  },
  {
   "cell_type": "code",
   "execution_count": 6,
   "id": "1ca1b962",
   "metadata": {
    "scrolled": false
   },
   "outputs": [
    {
     "name": "stdout",
     "output_type": "stream",
     "text": [
      "Gurobi Optimizer version 10.0.0 build v10.0.0rc2 (mac64[x86])\n",
      "\n",
      "CPU model: Intel(R) Core(TM) i7-9750H CPU @ 2.60GHz\n",
      "Thread count: 6 physical cores, 12 logical processors, using up to 12 threads\n",
      "\n",
      "Optimize a model with 6 rows, 10 columns and 20 nonzeros\n",
      "Model fingerprint: 0xd1a792d3\n",
      "Model has 5 quadratic objective terms\n",
      "Variable types: 5 continuous, 5 integer (5 binary)\n",
      "Coefficient statistics:\n",
      "  Matrix range     [1e+00, 5e+04]\n",
      "  Objective range  [0e+00, 0e+00]\n",
      "  QObjective range [2e+00, 2e+00]\n",
      "  Bounds range     [1e+00, 1e+05]\n",
      "  RHS range        [2e+05, 2e+05]\n",
      "Found heuristic solution: objective -0.0000000\n",
      "Presolve time: 0.01s\n",
      "Presolved: 11 rows, 15 columns, 35 nonzeros\n",
      "Variable types: 10 continuous, 5 integer (5 binary)\n",
      "\n",
      "Root relaxation: objective 2.086154e+05, 8 iterations, 0.00 seconds (0.00 work units)\n",
      "\n",
      "    Nodes    |    Current Node    |     Objective Bounds      |     Work\n",
      " Expl Unexpl |  Obj  Depth IntInf | Incumbent    BestBd   Gap | It/Node Time\n",
      "\n",
      "     0     0 208615.385    0    1   -0.00000 208615.385      -     -    0s\n",
      "H    0     0                    111000.00000 208615.385  87.9%     -    0s\n",
      "H    0     0                    208428.57143 208615.385  0.09%     -    0s\n",
      "     0     0     cutoff    0      208428.571 208428.571  0.00%     -    0s\n",
      "\n",
      "Cutting planes:\n",
      "  RLT: 1\n",
      "\n",
      "Explored 1 nodes (8 simplex iterations) in 0.05 seconds (0.00 work units)\n",
      "Thread count was 12 (of 12 available processors)\n",
      "\n",
      "Solution count 3: 208429 111000 -0 \n",
      "\n",
      "Optimal solution found (tolerance 1.00e-04)\n",
      "Best objective 2.084285714286e+05, best bound 2.084285714286e+05, gap 0.0000%\n"
     ]
    }
   ],
   "source": [
    "m.setObjective(gp.quicksum(r[i]*x[i]*y[i] for i in range(5)), GRB.MAXIMIZE)\n",
    "m.optimize()"
   ]
  },
  {
   "cell_type": "code",
   "execution_count": 7,
   "id": "58d87705",
   "metadata": {
    "scrolled": true
   },
   "outputs": [
    {
     "name": "stdout",
     "output_type": "stream",
     "text": [
      "Invest 0.0 into fund 0\n",
      "Invest 100000.0 into fund 1\n",
      "Invest 90476.19047619047 into fund 2\n",
      "Invest 0.0 into fund 3\n",
      "Invest 0.0 into fund 4\n",
      "Chosen funds are [0.0, 1.0, 1.0, 0.0, 0.0]\n",
      "Total expected return is  208428.57142857142\n"
     ]
    }
   ],
   "source": [
    "if m.status == GRB.OPTIMAL:\n",
    "    funds = [y[i].x for i in range(5) ]\n",
    "    invested = [x[i].x for i in range(5)]\n",
    "    for i in range(5):\n",
    "        print(f'Invest {invested[i]} into fund {i}')\n",
    "    print('Chosen funds are', funds)\n",
    "    print('Total expected return is ', m.objVal)"
   ]
  },
  {
   "cell_type": "code",
   "execution_count": 8,
   "id": "bc308836",
   "metadata": {},
   "outputs": [
    {
     "name": "stdout",
     "output_type": "stream",
     "text": [
      "Gurobi Optimizer version 10.0.0 build v10.0.0rc2 (mac64[x86])\n",
      "\n",
      "CPU model: Intel(R) Core(TM) i7-9750H CPU @ 2.60GHz\n",
      "Thread count: 6 physical cores, 12 logical processors, using up to 12 threads\n",
      "\n",
      "Optimize a model with 7 rows, 10 columns and 22 nonzeros\n",
      "Model fingerprint: 0x117df8f2\n",
      "Model has 5 quadratic objective terms\n",
      "Variable types: 5 continuous, 5 integer (5 binary)\n",
      "Coefficient statistics:\n",
      "  Matrix range     [1e+00, 5e+04]\n",
      "  Objective range  [0e+00, 0e+00]\n",
      "  QObjective range [2e+00, 2e+00]\n",
      "  Bounds range     [1e+00, 1e+05]\n",
      "  RHS range        [1e+00, 2e+05]\n",
      "\n",
      "MIP start from previous solve did not produce a new incumbent solution\n",
      "MIP start from previous solve violates constraint R6 by 1.000000000\n",
      "\n",
      "Found heuristic solution: objective -0.0000000\n",
      "Presolve time: 0.00s\n",
      "Presolved: 12 rows, 15 columns, 37 nonzeros\n",
      "Variable types: 10 continuous, 5 integer (5 binary)\n",
      "\n",
      "Root relaxation: objective 2.081769e+05, 8 iterations, 0.00 seconds (0.00 work units)\n",
      "\n",
      "    Nodes    |    Current Node    |     Objective Bounds      |     Work\n",
      " Expl Unexpl |  Obj  Depth IntInf | Incumbent    BestBd   Gap | It/Node Time\n",
      "\n",
      "     0     0 208176.938    0    1   -0.00000 208176.938      -     -    0s\n",
      "H    0     0                    111000.00000 208176.938  87.5%     -    0s\n",
      "H    0     0                    208142.85714 208176.938  0.02%     -    0s\n",
      "\n",
      "Cutting planes:\n",
      "  Gomory: 1\n",
      "  MIR: 1\n",
      "\n",
      "Explored 1 nodes (8 simplex iterations) in 0.02 seconds (0.00 work units)\n",
      "Thread count was 12 (of 12 available processors)\n",
      "\n",
      "Solution count 3: 208143 111000 -0 \n",
      "\n",
      "Optimal solution found (tolerance 1.00e-04)\n",
      "Best objective 2.081428571429e+05, best bound 2.081428571429e+05, gap 0.0000%\n",
      "Invest 0.0 into fund 0\n",
      "Invest 0.0 into fund 1\n",
      "Invest 100000.0 into fund 2\n",
      "Invest 0.0 into fund 3\n",
      "Invest 93406.59340659341 into fund 4\n",
      "Chosen funds are [0.0, 0.0, 1.0, 0.0, 1.0]\n",
      "Total expected return is  208142.85714285716\n"
     ]
    }
   ],
   "source": [
    "m.addConstr(y[1] + y[2] <= 1)\n",
    "m.setObjective(gp.quicksum(r[i]*x[i]*y[i] for i in range(5)), GRB.MAXIMIZE)\n",
    "m.optimize()\n",
    "if m.status == GRB.OPTIMAL:\n",
    "    funds = [y[i].x for i in range(5) ]\n",
    "    invested = [x[i].x for i in range(5)]\n",
    "    for i in range(5):\n",
    "        print(f'Invest {invested[i]} into fund {i}')\n",
    "    print('Chosen funds are', funds)\n",
    "    print('Total expected return is ', m.objVal)"
   ]
  },
  {
   "cell_type": "code",
   "execution_count": 9,
   "id": "0828c027",
   "metadata": {},
   "outputs": [
    {
     "name": "stdout",
     "output_type": "stream",
     "text": [
      "Gurobi Optimizer version 10.0.0 build v10.0.0rc2 (mac64[x86])\n",
      "\n",
      "CPU model: Intel(R) Core(TM) i7-9750H CPU @ 2.60GHz\n",
      "Thread count: 6 physical cores, 12 logical processors, using up to 12 threads\n",
      "\n",
      "Optimize a model with 8 rows, 10 columns and 24 nonzeros\n",
      "Model fingerprint: 0xc4dd128c\n",
      "Model has 5 quadratic objective terms\n",
      "Variable types: 5 continuous, 5 integer (5 binary)\n",
      "Coefficient statistics:\n",
      "  Matrix range     [1e+00, 5e+04]\n",
      "  Objective range  [0e+00, 0e+00]\n",
      "  QObjective range [2e+00, 2e+00]\n",
      "  Bounds range     [1e+00, 1e+05]\n",
      "  RHS range        [1e+00, 2e+05]\n",
      "\n",
      "MIP start from previous solve did not produce a new incumbent solution\n",
      "MIP start from previous solve violates constraint R7 by 1.000000000\n",
      "\n",
      "Found heuristic solution: objective -0.0000000\n",
      "Presolve time: 0.00s\n",
      "Presolved: 13 rows, 15 columns, 39 nonzeros\n",
      "Variable types: 10 continuous, 5 integer (5 binary)\n",
      "\n",
      "Root relaxation: objective 2.077647e+05, 8 iterations, 0.00 seconds (0.00 work units)\n",
      "\n",
      "    Nodes    |    Current Node    |     Objective Bounds      |     Work\n",
      " Expl Unexpl |  Obj  Depth IntInf | Incumbent    BestBd   Gap | It/Node Time\n",
      "\n",
      "     0     0 207764.706    0    1   -0.00000 207764.706      -     -    0s\n",
      "H    0     0                    111000.00000 207764.706  87.2%     -    0s\n",
      "H    0     0                    207641.79104 207764.706  0.06%     -    0s\n",
      "     0     0     cutoff    0      207641.791 207641.791  0.00%     -    0s\n",
      "\n",
      "Cutting planes:\n",
      "  RLT: 1\n",
      "\n",
      "Explored 1 nodes (8 simplex iterations) in 0.02 seconds (0.00 work units)\n",
      "Thread count was 12 (of 12 available processors)\n",
      "\n",
      "Solution count 3: 207642 111000 -0 \n",
      "\n",
      "Optimal solution found (tolerance 1.00e-04)\n",
      "Best objective 2.076417910448e+05, best bound 2.076417910448e+05, gap 0.0000%\n",
      "Invest 0.0 into fund 0\n",
      "Invest 0.0 into fund 1\n",
      "Invest 100000.0 into fund 2\n",
      "Invest 92039.80099502488 into fund 3\n",
      "Invest 0.0 into fund 4\n",
      "Chosen funds are [0.0, 0.0, 1.0, 1.0, 0.0]\n",
      "Total expected return is  207641.79104477615\n"
     ]
    }
   ],
   "source": [
    "m.addConstr(y[4] <= y[0])\n",
    "m.setObjective(gp.quicksum(r[i]*x[i]*y[i] for i in range(5)), GRB.MAXIMIZE)\n",
    "m.optimize()\n",
    "if m.status == GRB.OPTIMAL:\n",
    "    funds = [y[i].x for i in range(5) ]\n",
    "    invested = [x[i].x for i in range(5)]\n",
    "    for i in range(5):\n",
    "        print(f'Invest {invested[i]} into fund {i}')\n",
    "    print('Chosen funds are', funds)\n",
    "    print('Total expected return is ', m.objVal)"
   ]
  },
  {
   "cell_type": "code",
   "execution_count": 10,
   "id": "bf9690e9",
   "metadata": {},
   "outputs": [
    {
     "name": "stdout",
     "output_type": "stream",
     "text": [
      "Gurobi Optimizer version 10.0.0 build v10.0.0rc2 (mac64[x86])\n",
      "\n",
      "CPU model: Intel(R) Core(TM) i7-9750H CPU @ 2.60GHz\n",
      "Thread count: 6 physical cores, 12 logical processors, using up to 12 threads\n",
      "\n",
      "Optimize a model with 9 rows, 10 columns and 27 nonzeros\n",
      "Model fingerprint: 0x545f1d57\n",
      "Model has 5 quadratic objective terms\n",
      "Variable types: 5 continuous, 5 integer (5 binary)\n",
      "Coefficient statistics:\n",
      "  Matrix range     [1e+00, 5e+04]\n",
      "  Objective range  [0e+00, 0e+00]\n",
      "  QObjective range [2e+00, 2e+00]\n",
      "  Bounds range     [1e+00, 1e+05]\n",
      "  RHS range        [1e+00, 2e+05]\n",
      "\n",
      "MIP start from previous solve produced solution with objective 207642 (0.01s)\n",
      "MIP start from previous solve produced solution with objective 207642 (0.01s)\n",
      "Loaded MIP start from previous solve with objective 207642\n",
      "\n",
      "Presolve removed 1 rows and 0 columns\n",
      "Presolve time: 0.00s\n",
      "Presolved: 13 rows, 15 columns, 39 nonzeros\n",
      "Variable types: 10 continuous, 5 integer (5 binary)\n",
      "\n",
      "Root relaxation: objective 2.077647e+05, 8 iterations, 0.00 seconds (0.00 work units)\n",
      "\n",
      "    Nodes    |    Current Node    |     Objective Bounds      |     Work\n",
      " Expl Unexpl |  Obj  Depth IntInf | Incumbent    BestBd   Gap | It/Node Time\n",
      "\n",
      "     0     0 207764.706    0    1 207641.791 207764.706  0.06%     -    0s\n",
      "\n",
      "Explored 1 nodes (8 simplex iterations) in 0.02 seconds (0.00 work units)\n",
      "Thread count was 12 (of 12 available processors)\n",
      "\n",
      "Solution count 1: 207642 \n",
      "\n",
      "Optimal solution found (tolerance 1.00e-04)\n",
      "Best objective 2.076417910448e+05, best bound 2.076417910448e+05, gap 0.0000%\n",
      "Invest 0.0 into fund 0\n",
      "Invest 0.0 into fund 1\n",
      "Invest 100000.0 into fund 2\n",
      "Invest 92039.80099502482 into fund 3\n",
      "Invest 0.0 into fund 4\n",
      "Chosen funds are [0.0, 0.0, 1.0, 1.0, 0.0]\n",
      "Total expected return is  207641.7910447761\n"
     ]
    }
   ],
   "source": [
    "m.addConstr(y[0] + y[2] <= 2 + y[3])\n",
    "m.setObjective(gp.quicksum(r[i]*x[i]*y[i] for i in range(5)), GRB.MAXIMIZE)\n",
    "m.optimize()\n",
    "if m.status == GRB.OPTIMAL:\n",
    "    funds = [y[i].x for i in range(5) ]\n",
    "    invested = [x[i].x for i in range(5)]\n",
    "    for i in range(5):\n",
    "        print(f'Invest {invested[i]} into fund {i}')\n",
    "    print('Chosen funds are', funds)\n",
    "    print('Total expected return is ', m.objVal)"
   ]
  },
  {
   "cell_type": "code",
   "execution_count": 11,
   "id": "40675cde",
   "metadata": {},
   "outputs": [
    {
     "name": "stdout",
     "output_type": "stream",
     "text": [
      "Gurobi Optimizer version 10.0.0 build v10.0.0rc2 (mac64[x86])\n",
      "\n",
      "CPU model: Intel(R) Core(TM) i7-9750H CPU @ 2.60GHz\n",
      "Thread count: 6 physical cores, 12 logical processors, using up to 12 threads\n",
      "\n",
      "Optimize a model with 10 rows, 10 columns and 29 nonzeros\n",
      "Model fingerprint: 0xa8e89f5a\n",
      "Model has 5 quadratic objective terms\n",
      "Variable types: 5 continuous, 5 integer (5 binary)\n",
      "Coefficient statistics:\n",
      "  Matrix range     [1e+00, 5e+04]\n",
      "  Objective range  [0e+00, 0e+00]\n",
      "  QObjective range [2e+00, 2e+00]\n",
      "  Bounds range     [1e+00, 1e+05]\n",
      "  RHS range        [1e+00, 2e+05]\n",
      "\n",
      "MIP start from previous solve did not produce a new incumbent solution\n",
      "MIP start from previous solve violates constraint R9 by 1.000000000\n",
      "\n",
      "Found heuristic solution: objective -0.0000000\n",
      "Presolve removed 2 rows and 1 columns\n",
      "Presolve time: 0.00s\n",
      "Presolved: 13 rows, 14 columns, 38 nonzeros\n",
      "Variable types: 10 continuous, 4 integer (4 binary)\n",
      "\n",
      "Root relaxation: objective 2.068235e+05, 8 iterations, 0.00 seconds (0.00 work units)\n",
      "\n",
      "    Nodes    |    Current Node    |     Objective Bounds      |     Work\n",
      " Expl Unexpl |  Obj  Depth IntInf | Incumbent    BestBd   Gap | It/Node Time\n",
      "\n",
      "     0     0 206823.529    0    1   -0.00000 206823.529      -     -    0s\n",
      "H    0     0                    108000.00000 206823.529  91.5%     -    0s\n",
      "H    0     0                    206731.34328 206823.529  0.04%     -    0s\n",
      "     0     0     cutoff    0      206731.343 206731.343  0.00%     -    0s\n",
      "\n",
      "Cutting planes:\n",
      "  Gomory: 1\n",
      "  Flow cover: 1\n",
      "\n",
      "Explored 1 nodes (8 simplex iterations) in 0.02 seconds (0.00 work units)\n",
      "Thread count was 12 (of 12 available processors)\n",
      "\n",
      "Solution count 3: 206731 108000 -0 \n",
      "\n",
      "Optimal solution found (tolerance 1.00e-04)\n",
      "Best objective 2.067313432836e+05, best bound 2.067313432836e+05, gap 0.0000%\n",
      "Invest 0.0 into fund 0\n",
      "Invest 100000.0 into fund 1\n",
      "Invest 0.0 into fund 2\n",
      "Invest 94029.85074626867 into fund 3\n",
      "Invest 0.0 into fund 4\n",
      "Chosen funds are [0.0, 1.0, 0.0, 1.0, 0.0]\n",
      "Total expected return is  206731.3432835821\n"
     ]
    }
   ],
   "source": [
    "m.addConstr(y[0] - y[2] == 0)\n",
    "m.setObjective(gp.quicksum(r[i]*x[i]*y[i] for i in range(5)), GRB.MAXIMIZE)\n",
    "m.optimize()\n",
    "if m.status == GRB.OPTIMAL:\n",
    "    funds = [y[i].x for i in range(5) ]\n",
    "    invested = [x[i].x for i in range(5)]\n",
    "    for i in range(5):\n",
    "        print(f'Invest {invested[i]} into fund {i}')\n",
    "    print('Chosen funds are', funds)\n",
    "    print('Total expected return is ', m.objVal)"
   ]
  },
  {
   "cell_type": "code",
   "execution_count": 12,
   "id": "8c1d6dad",
   "metadata": {},
   "outputs": [
    {
     "name": "stdout",
     "output_type": "stream",
     "text": [
      "Gurobi Optimizer version 10.0.0 build v10.0.0rc2 (mac64[x86])\n",
      "\n",
      "CPU model: Intel(R) Core(TM) i7-9750H CPU @ 2.60GHz\n",
      "Thread count: 6 physical cores, 12 logical processors, using up to 12 threads\n",
      "\n",
      "Optimize a model with 12 rows, 11 columns and 33 nonzeros\n",
      "Model fingerprint: 0x0b54309c\n",
      "Model has 5 quadratic objective terms\n",
      "Variable types: 5 continuous, 6 integer (6 binary)\n",
      "Coefficient statistics:\n",
      "  Matrix range     [1e+00, 5e+04]\n",
      "  Objective range  [0e+00, 0e+00]\n",
      "  QObjective range [2e+00, 2e+00]\n",
      "  Bounds range     [1e+00, 1e+05]\n",
      "  RHS range        [1e+00, 2e+05]\n",
      "\n",
      "MIP start from previous solve produced solution with objective 206674 (0.01s)\n",
      "Loaded MIP start from previous solve with objective 206674\n",
      "\n",
      "Presolve removed 2 rows and 1 columns\n",
      "Presolve time: 0.00s\n",
      "Presolved: 15 rows, 15 columns, 42 nonzeros\n",
      "Variable types: 10 continuous, 5 integer (5 binary)\n",
      "\n",
      "Root relaxation: objective 2.068162e+05, 10 iterations, 0.00 seconds (0.00 work units)\n",
      "\n",
      "    Nodes    |    Current Node    |     Objective Bounds      |     Work\n",
      " Expl Unexpl |  Obj  Depth IntInf | Incumbent    BestBd   Gap | It/Node Time\n",
      "\n",
      "     0     0 206816.173    0    5 206674.030 206816.173  0.07%     -    0s\n",
      "     0     0     cutoff    0      206674.030 206674.030  0.00%     -    0s\n",
      "\n",
      "Explored 1 nodes (12 simplex iterations) in 0.02 seconds (0.00 work units)\n",
      "Thread count was 12 (of 12 available processors)\n",
      "\n",
      "Solution count 1: 206674 \n",
      "\n",
      "Optimal solution found (tolerance 1.00e-04)\n",
      "Best objective 2.066740298507e+05, best bound 2.066740298507e+05, gap 0.0000%\n",
      "Invest 0.0 into fund 0\n",
      "Invest 96000.0 into fund 1\n",
      "Invest 0.0 into fund 2\n",
      "Invest 98089.55223880598 into fund 3\n",
      "Invest 0.0 into fund 4\n",
      "Chosen funds are [0.0, 1.0, 0.0, 1.0, 0.0]\n",
      "Total expected return is  206674.02985074627\n"
     ]
    }
   ],
   "source": [
    "z = m.addVar(vtype = GRB.BINARY, name = 'z')\n",
    "m.addConstr(x[1] - 96000 <= 9999*z)\n",
    "m.addConstr(x[3] - 90000 <= 9999*(1 - z))\n",
    "m.setObjective(gp.quicksum(r[i]*x[i]*y[i] for i in range(5)), GRB.MAXIMIZE)\n",
    "m.optimize()\n",
    "if m.status == GRB.OPTIMAL:\n",
    "    funds = [y[i].x for i in range(5) ]\n",
    "    invested = [x[i].x for i in range(5)]\n",
    "    for i in range(5):\n",
    "        print(f'Invest {invested[i]} into fund {i}')\n",
    "    print('Chosen funds are', funds)\n",
    "    print('Total expected return is ', m.objVal)"
   ]
  },
  {
   "cell_type": "code",
   "execution_count": null,
   "id": "57f9aa81",
   "metadata": {},
   "outputs": [],
   "source": []
  }
 ],
 "metadata": {
  "kernelspec": {
   "display_name": "Python 3 (ipykernel)",
   "language": "python",
   "name": "python3"
  },
  "language_info": {
   "codemirror_mode": {
    "name": "ipython",
    "version": 3
   },
   "file_extension": ".py",
   "mimetype": "text/x-python",
   "name": "python",
   "nbconvert_exporter": "python",
   "pygments_lexer": "ipython3",
   "version": "3.9.13"
  }
 },
 "nbformat": 4,
 "nbformat_minor": 5
}
